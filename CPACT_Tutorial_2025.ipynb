{
 "cells": [
  {
   "cell_type": "markdown",
   "id": "267adc4f-79cf-4aba-9eae-4e0d53c53f3e",
   "metadata": {},
   "source": [
    "# Import Count Matrix and Filter Genes/Cells"
   ]
  },
  {
   "cell_type": "code",
   "execution_count": null,
   "id": "5ab72c5d-ab7b-4a9c-ab6d-276b0de73ebc",
   "metadata": {},
   "outputs": [],
   "source": [
    "from utilities import *\n",
    "\n",
    "# Load your count_matrix DataFrame (this code assumes that user has already performed scTransform or their preferred normalization method)\n",
    "count_matrix = pd.read_csv(\"path to your count matrix\", index_col=0)\n",
    "\n",
    "# Filter cells where at least 5% of genes are expressed\n",
    "count_matrix = count_matrix.loc[:, (count_matrix > 0).sum(axis=0) > 0.05 * count_matrix.shape[0]]\n",
    "\n",
    "# Filter genes that are expressed in more than 5% of the cells\n",
    "count_filtered = count_matrix.loc[(count_matrix > 0).sum(axis=1) > 0.05 * count_matrix.shape[1], :]\n",
    "\n",
    "row_means = np.mean(count_filtered, axis=1)\n",
    "\n",
    "# Check if any row means are 0 or 1\n",
    "rows_with_mean_zero_or_one = (row_means == 0) | (row_means == 1)\n",
    "\n",
    "# If you need the indices of such rows\n",
    "indices = np.where(rows_with_mean_zero_or_one)[0]\n",
    "\n",
    "row_means = np.mean(count_filtered, axis=1)\n",
    "\n",
    "# Identify the indices of rows with mean 0 or 1\n",
    "rows_to_remove = (row_means == 0) | (row_means == 1)\n",
    "\n",
    "# Remove these rows\n",
    "count_filtered = count_filtered[~rows_to_remove]"
   ]
  },
  {
   "cell_type": "markdown",
   "id": "6bf0e940-8184-4774-9da7-766d3bd16021",
   "metadata": {},
   "source": [
    "# Create coexpression network"
   ]
  },
  {
   "cell_type": "code",
   "execution_count": null,
   "id": "1eb4c748-4f16-44fd-a43c-333b43678c01",
   "metadata": {},
   "outputs": [],
   "source": [
    "import warnings\n",
    "warnings.filterwarnings('ignore')\n",
    "import numpy as np\n",
    "\n",
    "df = pd.DataFrame(count_filtered)\n",
    "so = create_sifinet_object(df, rowfeature= True)\n",
    "so = quantile_thres2(so)\n",
    "so = cal_coexp(so, X = so.data_thres['dt'], X_full = so.data_thres['dt'])\n",
    "so = create_network(so, alpha=0.05, manual=False, least_edge_prop=0.01)\n",
    "so = filter_lowexp(so, t1=10, t2=0.9, t3=0.9)"
   ]
  },
  {
   "cell_type": "code",
   "execution_count": null,
   "id": "3a403156-997b-4ab0-8cde-95fedc2b8b28",
   "metadata": {},
   "outputs": [],
   "source": [
    "# This code takes the coexpression matrix and assigns edges to our network using the previously obtained threshold, \"sif_ob_test.thres\"\n",
    "\n",
    "sif_ob_test = so\n",
    "\n",
    "# Perform the element-wise comparison and assignment\n",
    "adj_matrix = pd.DataFrame(np.where(\n",
    "    np.abs(sif_ob_test.coexp - sif_ob_test.est_ms['mean']) > sif_ob_test.thres,\n",
    "    np.abs(sif_ob_test.coexp),\n",
    "    0\n",
    "))\n",
    "\n",
    "adj_matrix.index = df.index\n",
    "adj_matrix.columns = df.index\n",
    "adj_matrix = convert_gene_ids(adj_matrix, \"ensembl\")\n",
    "\n",
    "# This converts ensemble (or symbol ids) into the appropriate entrez ids\n",
    "adj_matrix = convert_gene_ids(adj_matrix, \"ensembl\")\n",
    "\n",
    "G_s = create_network_from_adj_matrix(adj_matrix)\n",
    "\n",
    "# This retrieves pathway information from the KEGG database\n",
    "categorized_pathways = get_categorized_pathways()"
   ]
  },
  {
   "cell_type": "markdown",
   "id": "c98528a9-788b-4f67-a396-2f27d3922c14",
   "metadata": {},
   "source": [
    "#  Specify pathways of interest (list of pathways is stored in categorized_pathways) and run CPACT with the \"analyze_pathways\" function"
   ]
  },
  {
   "cell_type": "code",
   "execution_count": null,
   "id": "19208a9b-3e60-4fb0-b7dc-8c35d760cb3d",
   "metadata": {},
   "outputs": [],
   "source": [
    "test_pathways = [\"Cellular senescence\", \"Cell cycle\", \"Apoptosis\"]\n",
    "pathway_results = analyze_pathways(G_s, test_pathways, categorized_pathways ,num_walks=200, max_walk_length = 200)"
   ]
  }
 ],
 "metadata": {
  "kernelspec": {
   "display_name": "Python 3 (Reproducible)",
   "language": "python",
   "name": "python3_repro"
  },
  "language_info": {
   "codemirror_mode": {
    "name": "ipython",
    "version": 3
   },
   "file_extension": ".py",
   "mimetype": "text/x-python",
   "name": "python",
   "nbconvert_exporter": "python",
   "pygments_lexer": "ipython3",
   "version": "3.8.8"
  }
 },
 "nbformat": 4,
 "nbformat_minor": 5
}
